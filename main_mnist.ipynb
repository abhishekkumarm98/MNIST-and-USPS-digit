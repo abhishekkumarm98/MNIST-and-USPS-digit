{
 "cells": [
  {
   "cell_type": "code",
   "execution_count": 1,
   "metadata": {
    "scrolled": true
   },
   "outputs": [
    {
     "name": "stderr",
     "output_type": "stream",
     "text": [
      "Using TensorFlow backend.\n"
     ]
    }
   ],
   "source": [
    "import pickle\n",
    "import gzip\n",
    "import numpy as np\n",
    "import pandas as pd\n",
    "from PIL import Image\n",
    "import os\n",
    "import matplotlib.pyplot as plt\n",
    "import keras\n",
    "import sklearn\n",
    "import tensorflow as tf\n",
    "from tqdm import tqdm_notebook\n",
    "%matplotlib inline"
   ]
  },
  {
   "cell_type": "code",
   "execution_count": 2,
   "metadata": {},
   "outputs": [],
   "source": [
    "filename = 'mnist.pkl.gz'\n",
    "f = gzip.open(filename, 'rb')\n",
    "training_data, validation_data, test_data = pickle.load(f, encoding='latin1')\n",
    "f.close()"
   ]
  },
  {
   "cell_type": "code",
   "execution_count": 3,
   "metadata": {},
   "outputs": [],
   "source": [
    "train_x, train_y = training_data\n",
    "val_x, val_y = validation_data\n",
    "test_x, test_y = test_data"
   ]
  },
  {
   "cell_type": "code",
   "execution_count": 4,
   "metadata": {},
   "outputs": [
    {
     "data": {
      "text/plain": [
       "(1500, 784)"
      ]
     },
     "execution_count": 4,
     "metadata": {},
     "output_type": "execute_result"
    }
   ],
   "source": [
    "imgs = os.listdir(\"USPSTestSet\")\n",
    "USPS_Test_Imgs = []\n",
    "digit=[]\n",
    "for img in imgs:\n",
    "    img_path = \"USPSTestSet/\" + img\n",
    "    if img[-3:]=='png':\n",
    "        img = Image.open(img_path,'r')\n",
    "        img = img.resize((28,28))\n",
    "        digit=img\n",
    "        img = (255-np.array(img.getdata())) / 255\n",
    "        USPS_Test_Imgs.append(img)\n",
    "USPS_Test_Imgs = np.array(USPS_Test_Imgs)\n",
    "USPS_Test_Imgs.shape   "
   ]
  },
  {
   "cell_type": "code",
   "execution_count": 5,
   "metadata": {},
   "outputs": [
    {
     "data": {
      "text/plain": [
       "<matplotlib.image.AxesImage at 0x7f009def98>"
      ]
     },
     "execution_count": 5,
     "metadata": {},
     "output_type": "execute_result"
    },
    {
     "data": {
      "image/png": "[encoded data removed]",
      "text/plain": [
       "<Figure size 432x288 with 1 Axes>"
      ]
     },
     "metadata": {
      "needs_background": "light"
     },
     "output_type": "display_data"
    }
   ],
   "source": [
    "plt.imshow(digit)"
   ]
  },
  {
   "cell_type": "code",
   "execution_count": 6,
   "metadata": {},
   "outputs": [],
   "source": [
    "USPS_test_label = []\n",
    "for i in range(9,-1,-1):\n",
    "   USPS_test_label +=  [i]*150\n",
    "USPS_test_label = np.array(USPS_test_label)"
   ]
  },
  {
   "cell_type": "code",
   "execution_count": 7,
   "metadata": {},
   "outputs": [
    {
     "data": {
      "text/plain": [
       "(1500,)"
      ]
     },
     "execution_count": 7,
     "metadata": {},
     "output_type": "execute_result"
    }
   ],
   "source": [
    "USPS_test_label.shape"
   ]
  },
  {
   "cell_type": "code",
   "execution_count": 8,
   "metadata": {},
   "outputs": [],
   "source": [
    "# Add bias in all samples of MNIST and USPS dataset\n",
    "\n",
    "train_x=np.concatenate((np.ones((train_x.shape[0],1)),train_x),axis=1)\n",
    "val_x=np.concatenate((np.ones((val_x.shape[0],1)),val_x),axis=1)\n",
    "test_x = np.concatenate((np.ones((test_x.shape[0],1)),test_x),axis=1) \n",
    "USPS_Test_Imgs =np.concatenate((np.ones((USPS_Test_Imgs.shape[0],1)),USPS_Test_Imgs),axis=1)"
   ]
  },
  {
   "cell_type": "code",
   "execution_count": 9,
   "metadata": {},
   "outputs": [
    {
     "name": "stdout",
     "output_type": "stream",
     "text": [
      "(50000, 785)\n",
      "(10000, 785)\n",
      "(10000, 785)\n",
      "(1500, 785)\n"
     ]
    }
   ],
   "source": [
    "print(train_x.shape)\n",
    "print(val_x.shape)\n",
    "print(test_x.shape)\n",
    "print(USPS_Test_Imgs.shape)"
   ]
  },
  {
   "cell_type": "code",
   "execution_count": 10,
   "metadata": {},
   "outputs": [],
   "source": [
    "one_hot_train_y = keras.utils.to_categorical(train_y)\n",
    "one_hot_val_y = keras.utils.to_categorical(val_y)\n",
    "one_hot_test_y = keras.utils.to_categorical(test_y)\n",
    "one_hot_USPS_test_label = keras.utils.to_categorical(USPS_test_label)"
   ]
  },
  {
   "cell_type": "code",
   "execution_count": 11,
   "metadata": {},
   "outputs": [
    {
     "name": "stdout",
     "output_type": "stream",
     "text": [
      "(50000, 10)\n",
      "(10000, 10)\n",
      "(10000, 10)\n",
      "(1500, 10)\n"
     ]
    }
   ],
   "source": [
    "print(one_hot_train_y.shape)\n",
    "print(one_hot_val_y.shape)\n",
    "print(one_hot_test_y.shape)\n",
    "print(one_hot_USPS_test_label.shape)"
   ]
  },
  {
   "cell_type": "code",
   "execution_count": 12,
   "metadata": {},
   "outputs": [],
   "source": [
    "def softmaxFunction(inputData, weight):\n",
    "    intmdTerm = np.exp(np.matmul(inputData, weight) - np.max(np.matmul(inputData, weight)))\n",
    "    softmax = (intmdTerm.T / np.sum(intmdTerm,axis=1)).T\n",
    "    return softmax"
   ]
  },
  {
   "cell_type": "code",
   "execution_count": 13,
   "metadata": {},
   "outputs": [],
   "source": [
    "def cross_entropy(m,data,weight,Target):\n",
    "    J = (-1/m)*np.sum(Target * np.log(softmaxFunction(data,weight)))\n",
    "    return J"
   ]
  },
  {
   "cell_type": "code",
   "execution_count": 14,
   "metadata": {},
   "outputs": [],
   "source": [
    "def gd(m,weight,X, Target, Learningrate,iterations): # gd stands for Gradient Descent\n",
    "    cost_functionList = [0]* iterations\n",
    "    for i in tqdm_notebook(range(iterations)):\n",
    "        weight = weight - (Learningrate/m) * np.dot( X.T, (softmaxFunction(X,weight) - Target))\n",
    "        cost = cross_entropy(m,X,weight,Target)\n",
    "        cost_functionList[i] = cost\n",
    "    return weight, cost_functionList"
   ]
  },
  {
   "cell_type": "code",
   "execution_count": 15,
   "metadata": {},
   "outputs": [
    {
     "data": {
      "application/vnd.jupyter.widget-view+json": {
       "model_id": "12c0354fbeee49e4a3239bbe4a12a244",
       "version_major": 2,
       "version_minor": 0
      },
      "text/plain": [
       "HBox(children=(IntProgress(value=0, max=300), HTML(value='')))"
      ]
     },
     "metadata": {},
     "output_type": "display_data"
    },
    {
     "name": "stdout",
     "output_type": "stream",
     "text": [
      "\n"
     ]
    }
   ],
   "source": [
    "weight = np.zeros((train_x.shape[1],one_hot_test_y.shape[1]))\n",
    "numOftraining_examples,numOfvalidation_examples,numOftest_examples, numOfUSPS_Test_examples = len(train_x), len(val_x), len(test_x), len(USPS_Test_Imgs)\n",
    "Learningrate = 0.15\n",
    "iterations = 300\n",
    "batch_size = 128\n",
    "New_weight, costList = gd(numOftraining_examples,weight,train_x,one_hot_train_y,Learningrate,iterations)"
   ]
  },
  {
   "cell_type": "code",
   "execution_count": 51,
   "metadata": {},
   "outputs": [
    {
     "data": {
      "text/plain": [
       "Text(0.5, 1.0, 'Cost Vs. Number of iterations')"
      ]
     },
     "execution_count": 51,
     "metadata": {},
     "output_type": "execute_result"
    },
    {
     "data": {
      "image/png": "[encoded data removed]",
      "text/plain": [
       "<Figure size 432x288 with 1 Axes>"
      ]
     },
     "metadata": {
      "needs_background": "light"
     },
     "output_type": "display_data"
    }
   ],
   "source": [
    "plt.plot([i for i in range(iterations)],costList)\n",
    "plt.xlabel(\"Number of iterations----->\")\n",
    "plt.ylabel(\"Cost----->\")\n",
    "plt.title(\"Cost Vs. Number of iterations\")"
   ]
  },
  {
   "cell_type": "code",
   "execution_count": 17,
   "metadata": {},
   "outputs": [],
   "source": [
    "def mini_batch_sgd(m,weight,X, Target, Learningrate,epochs,batchSize):\n",
    "    cost_functionList = [0]* epochs\n",
    "    for epoch in tqdm_notebook(range(epochs)):\n",
    "        arbit = np.random.permutation(m)\n",
    "        X = X[arbit]\n",
    "        Target = Target[arbit]\n",
    "        cost = 0\n",
    "        for i in tqdm_notebook(range(0,m,batchSize)):\n",
    "            X_mini = X[i:i+batchSize]\n",
    "            Target_mini = Target[i:i+batchSize]\n",
    "            weight = weight - (Learningrate/m) * np.dot( X_mini.T, (softmaxFunction(X_mini,weight) - Target_mini))\n",
    "            cost += cross_entropy(m,X,weight,Target)\n",
    "        cost_functionList[epoch] = cost\n",
    "    return weight,cost_functionList"
   ]
  },
  {
   "cell_type": "code",
   "execution_count": null,
   "metadata": {},
   "outputs": [],
   "source": [
    "Weight_now,Cost_list = mini_batch_sgd(numOftraining_examples, weight, train_x, one_hot_train_y, Learningrate, iterations, batch_size)"
   ]
  },
  {
   "cell_type": "code",
   "execution_count": null,
   "metadata": {},
   "outputs": [],
   "source": [
    "plt.plot([i for i in range(iterations)],Cost_List,'b.')"
   ]
  },
  {
   "cell_type": "code",
   "execution_count": 17,
   "metadata": {},
   "outputs": [],
   "source": [
    "def predictions(Input,weight):\n",
    "    preds = softmaxFunction(Input,weight)\n",
    "    preds = np.argmax(preds,axis=1)\n",
    "    return preds"
   ]
  },
  {
   "cell_type": "code",
   "execution_count": 18,
   "metadata": {},
   "outputs": [],
   "source": [
    "def getAccuracy(Input,Target):\n",
    "    preds = predictions(Input,New_weight) # Use New_weight for Bgd\n",
    "    accuracy = sum(preds == Target)/(float(len(Target)))\n",
    "    return accuracy"
   ]
  },
  {
   "cell_type": "code",
   "execution_count": 19,
   "metadata": {},
   "outputs": [
    {
     "name": "stdout",
     "output_type": "stream",
     "text": [
      "Validation Accuracy =  0.9042\n",
      "Test Accuracy =  0.9003\n"
     ]
    }
   ],
   "source": [
    "print(\"Validation Accuracy = \",getAccuracy(val_x,val_y))\n",
    "print(\"Test Accuracy = \",getAccuracy(test_x,test_y))"
   ]
  },
  {
   "cell_type": "code",
   "execution_count": 20,
   "metadata": {},
   "outputs": [
    {
     "name": "stdout",
     "output_type": "stream",
     "text": [
      "0.318\n"
     ]
    }
   ],
   "source": [
    "# For USPS test set\n",
    "\n",
    "print(getAccuracy(USPS_Test_Imgs,USPS_test_label))"
   ]
  },
  {
   "cell_type": "code",
   "execution_count": 21,
   "metadata": {},
   "outputs": [
    {
     "name": "stdout",
     "output_type": "stream",
     "text": [
      "[7 2 1 ... 4 5 6] \n",
      "\n",
      " [7 2 1 ... 4 5 6]\n"
     ]
    }
   ],
   "source": [
    "predict = predictions(test_x,New_weight)\n",
    "actualOutput = test_y\n",
    "print(actualOutput,\"\\n\\n\",predict)"
   ]
  },
  {
   "cell_type": "code",
   "execution_count": 22,
   "metadata": {},
   "outputs": [
    {
     "data": {
      "text/html": [
       "<div>\n",
       "<style scoped>\n",
       "    .dataframe tbody tr th:only-of-type {\n",
       "        vertical-align: middle;\n",
       "    }\n",
       "\n",
       "    .dataframe tbody tr th {\n",
       "        vertical-align: top;\n",
       "    }\n",
       "\n",
       "    .dataframe thead th {\n",
       "        text-align: right;\n",
       "    }\n",
       "</style>\n",
       "<table border=\"1\" class=\"dataframe\">\n",
       "  <thead>\n",
       "    <tr style=\"text-align: right;\">\n",
       "      <th></th>\n",
       "      <th>Actual_label</th>\n",
       "    </tr>\n",
       "  </thead>\n",
       "  <tbody>\n",
       "    <tr>\n",
       "      <th>0</th>\n",
       "      <td>7</td>\n",
       "    </tr>\n",
       "    <tr>\n",
       "      <th>1</th>\n",
       "      <td>2</td>\n",
       "    </tr>\n",
       "    <tr>\n",
       "      <th>2</th>\n",
       "      <td>1</td>\n",
       "    </tr>\n",
       "    <tr>\n",
       "      <th>3</th>\n",
       "      <td>0</td>\n",
       "    </tr>\n",
       "    <tr>\n",
       "      <th>4</th>\n",
       "      <td>4</td>\n",
       "    </tr>\n",
       "  </tbody>\n",
       "</table>\n",
       "</div>"
      ],
      "text/plain": [
       "   Actual_label\n",
       "0             7\n",
       "1             2\n",
       "2             1\n",
       "3             0\n",
       "4             4"
      ]
     },
     "execution_count": 22,
     "metadata": {},
     "output_type": "execute_result"
    }
   ],
   "source": [
    "df =pd.DataFrame(test_y,columns=['Actual_label'])\n",
    "df.head()"
   ]
  },
  {
   "cell_type": "code",
   "execution_count": 23,
   "metadata": {},
   "outputs": [],
   "source": [
    "classified_counts = {}\n",
    "misclassified_counts ={}\n",
    "\n",
    "def classificationReport(actual_label, predicted_label):\n",
    "    for true,pred in list(zip(actual_label, predicted_label)):\n",
    "        if pred == true:\n",
    "            if pred in classified_counts:\n",
    "                classified_counts[pred] = classified_counts[pred]+1\n",
    "            else:\n",
    "                classified_counts[pred]=1\n",
    "        else:\n",
    "            if pred in misclassified_counts:\n",
    "                misclassified_counts[pred] = misclassified_counts[pred]+1\n",
    "            else:\n",
    "                misclassified_counts[pred]=1\n",
    "    return classified_counts, misclassified_counts"
   ]
  },
  {
   "cell_type": "code",
   "execution_count": 24,
   "metadata": {},
   "outputs": [],
   "source": [
    "correctCounts, misclassifiedCounts = classificationReport(test_y, predict)\n",
    "TotalCounts = dict(df['Actual_label'].value_counts())"
   ]
  },
  {
   "cell_type": "code",
   "execution_count": 25,
   "metadata": {},
   "outputs": [
    {
     "name": "stdout",
     "output_type": "stream",
     "text": [
      "Report:\n",
      "\n",
      "     labels      precision      recall      f1-score\n",
      "         0          0.93          0.98          0.95\n",
      "         1          0.95          0.97          0.96\n",
      "         2          0.91          0.86          0.88\n",
      "         3          0.88          0.89          0.89\n",
      "         4          0.89          0.91          0.90\n",
      "         5          0.89          0.82          0.85\n",
      "         6          0.92          0.93          0.93\n",
      "         7          0.91          0.89          0.90\n",
      "         8          0.85          0.86          0.85\n",
      "         9          0.86          0.87          0.87\n"
     ]
    }
   ],
   "source": [
    "print(\"Report:\\n\")\n",
    "print(\" \"*5 + \"labels\",\" \"*5 + \"precision\",\" \"*5 + \"recall\" , \" \"*5 + \"f1-score\")\n",
    "\n",
    "for i in range(len(TotalCounts)):\n",
    "    precision = correctCounts[i]/(correctCounts[i]+misclassifiedCounts[i])\n",
    "    recall = correctCounts[i]/ TotalCounts[i]\n",
    "    f1_score = (2 * precision * recall) / (precision + recall)\n",
    "    print(\" \"*8,i,\" \"*8,format(precision,\".2f\"),\" \"*8,format(recall,\".2f\"),\" \"*8,format(f1_score,\".2f\"))"
   ]
  },
  {
   "cell_type": "code",
   "execution_count": 26,
   "metadata": {
    "scrolled": true
   },
   "outputs": [
    {
     "name": "stdout",
     "output_type": "stream",
     "text": [
      "Confusion matrix:\n",
      "\n",
      " [[ 957    0    3    3    0    1    8    1    7    0]\n",
      " [   0 1103    2    4    1    2    4    0   19    0]\n",
      " [  13    6  887   19   16    0   18   22   42    9]\n",
      " [   6    1   17  898    1   31    6   16   22   12]\n",
      " [   2    6    5    0  898    1   10    2    8   50]\n",
      " [  14    6    6   43   15  733   17   10   37   11]\n",
      " [  16    3    7    2   13   16  895    1    5    0]\n",
      " [   3   20   29    4   11    0    0  916    4   41]\n",
      " [   9   10   10   31    8   27   13   14  835   17]\n",
      " [  13    8    7   11   45   16    0   22    6  881]]\n",
      "\n",
      "accuracy :\n",
      " 0.9003\n",
      "\n",
      "report :\n",
      "               precision    recall  f1-score   support\n",
      "\n",
      "           0       0.93      0.98      0.95       980\n",
      "           1       0.95      0.97      0.96      1135\n",
      "           2       0.91      0.86      0.88      1032\n",
      "           3       0.88      0.89      0.89      1010\n",
      "           4       0.89      0.91      0.90       982\n",
      "           5       0.89      0.82      0.85       892\n",
      "           6       0.92      0.93      0.93       958\n",
      "           7       0.91      0.89      0.90      1028\n",
      "           8       0.85      0.86      0.85       974\n",
      "           9       0.86      0.87      0.87      1009\n",
      "\n",
      "   micro avg       0.90      0.90      0.90     10000\n",
      "   macro avg       0.90      0.90      0.90     10000\n",
      "weighted avg       0.90      0.90      0.90     10000\n",
      "\n"
     ]
    }
   ],
   "source": [
    "# Confusion Matrix from sklearn to validate our report's output\n",
    "\n",
    "from sklearn.metrics import confusion_matrix, accuracy_score, classification_report \n",
    "print(\"Confusion matrix:\\n\\n\",confusion_matrix(test_y,predict))\n",
    "print(\"\\naccuracy :\\n\",accuracy_score(test_y,predict))\n",
    "print(\"\\nreport :\\n\",classification_report(test_y,predict))"
   ]
  },
  {
   "cell_type": "code",
   "execution_count": 27,
   "metadata": {},
   "outputs": [],
   "source": [
    "from keras.models import Sequential\n",
    "from keras.layers import Dense"
   ]
  },
  {
   "cell_type": "code",
   "execution_count": 28,
   "metadata": {},
   "outputs": [],
   "source": [
    "# Initialising the ANN\n",
    "\n",
    "clf_1 = Sequential()"
   ]
  },
  {
   "cell_type": "code",
   "execution_count": 29,
   "metadata": {},
   "outputs": [],
   "source": [
    "# Adding the input layer and the first hidden layer\n",
    "\n",
    "clf_1.add(Dense(units=64,activation=\"relu\", input_shape=(train_x[:,1:].shape[1],)))\n",
    "\n",
    "# Adding the output layer\n",
    "\n",
    "clf_1.add(Dense(units=one_hot_train_y.shape[1], activation= \"softmax\"))\n",
    "clf_1.compile(optimizer='sgd',loss= 'categorical_crossentropy',metrics=['accuracy'])\n",
    "history = clf_1.fit(train_x[:,1:],one_hot_train_y,batch_size=128,epochs=150,verbose=False)"
   ]
  },
  {
   "cell_type": "code",
   "execution_count": 30,
   "metadata": {},
   "outputs": [
    {
     "name": "stdout",
     "output_type": "stream",
     "text": [
      "10000/10000 [==============================] - ETA: 15 - ETA: 0 - ETA:  - ETA:  - ETA:  - ETA:  - ETA:  - 0s 36us/step\n",
      "10000/10000 [==============================] - ETA:  - ETA:  - ETA:  - ETA:  - ETA:  - ETA:  - ETA:  - 0s 33us/step\n"
     ]
    }
   ],
   "source": [
    "loss_val, accuracy_val = clf_1.evaluate(val_x[:,1:],one_hot_val_y)\n",
    "loss_test, accuracy_test = clf_1.evaluate(test_x[:,1:],one_hot_test_y)"
   ]
  },
  {
   "cell_type": "code",
   "execution_count": 31,
   "metadata": {},
   "outputs": [
    {
     "name": "stdout",
     "output_type": "stream",
     "text": [
      "loss for validation MNIST set : 0.1066227954145521\n",
      "Accuracy for validation MNIST set is  0.9699\n",
      "\n",
      "loss for MNIST test set : 0.10766367815323175\n",
      "Accuracy for MNIST test set is  0.9678\n"
     ]
    }
   ],
   "source": [
    "print(\"loss for validation MNIST set :\",loss_val)\n",
    "print(\"Accuracy for validation MNIST set is \",accuracy_val)\n",
    "print(\"\\nloss for MNIST test set :\",loss_test)\n",
    "print(\"Accuracy for MNIST test set is \",accuracy_test)"
   ]
  },
  {
   "cell_type": "code",
   "execution_count": 32,
   "metadata": {},
   "outputs": [
    {
     "name": "stdout",
     "output_type": "stream",
     "text": [
      "1500/1500 [==============================] - ETA:  - ETA:  - 0s 57us/step\n"
     ]
    }
   ],
   "source": [
    "# For USPS set\n",
    "\n",
    "loss, accuracy = clf_1.evaluate(USPS_Test_Imgs[:,1:],one_hot_USPS_test_label)\n"
   ]
  },
  {
   "cell_type": "code",
   "execution_count": 33,
   "metadata": {},
   "outputs": [
    {
     "name": "stdout",
     "output_type": "stream",
     "text": [
      "loss for USPS : 2.750662892023722\n",
      "Accuracy for USPS is  0.4180000000397364\n"
     ]
    }
   ],
   "source": [
    "print(\"loss for USPS :\",loss)\n",
    "print(\"Accuracy for USPS is \",accuracy)"
   ]
  },
  {
   "cell_type": "code",
   "execution_count": 34,
   "metadata": {},
   "outputs": [],
   "source": [
    "from sklearn.svm import SVC"
   ]
  },
  {
   "cell_type": "code",
   "execution_count": 35,
   "metadata": {},
   "outputs": [
    {
     "data": {
      "text/plain": [
       "SVC(C=2, cache_size=200, class_weight=None, coef0=0.0,\n",
       "  decision_function_shape='ovr', degree=3, gamma=0.05, kernel='linear',\n",
       "  max_iter=-1, probability=False, random_state=None, shrinking=True,\n",
       "  tol=0.001, verbose=False)"
      ]
     },
     "execution_count": 35,
     "metadata": {},
     "output_type": "execute_result"
    }
   ],
   "source": [
    "# Support vector machine classifier\n",
    "\n",
    "clf_2 = SVC(kernel='linear', C=2, gamma = 0.05)\n",
    "clf_2.fit(train_x[:,1:], train_y)"
   ]
  },
  {
   "cell_type": "code",
   "execution_count": 36,
   "metadata": {},
   "outputs": [
    {
     "name": "stdout",
     "output_type": "stream",
     "text": [
      "accuracy : 0.9377\n"
     ]
    }
   ],
   "source": [
    "print(\"accuracy :\",accuracy_score(val_y,clf_2.predict(val_x[:,1:])))"
   ]
  },
  {
   "cell_type": "code",
   "execution_count": 37,
   "metadata": {},
   "outputs": [],
   "source": [
    "result = clf_2.predict(test_x[:,1:])"
   ]
  },
  {
   "cell_type": "code",
   "execution_count": 38,
   "metadata": {},
   "outputs": [
    {
     "name": "stdout",
     "output_type": "stream",
     "text": [
      "Confusion matrix:\n",
      "\n",
      " [[ 958    0    5    1    1    3    8    1    1    2]\n",
      " [   0 1117    4    4    0    1    2    1    6    0]\n",
      " [   6   11  960   13    3    1   12   10   14    2]\n",
      " [   4    2   19  944    3   13    1    7   14    3]\n",
      " [   2    1    9    0  944    0    5    1    2   18]\n",
      " [  15    7    4   39    5  787   11    1   19    4]\n",
      " [  10    3   11    1    5   13  912    1    2    0]\n",
      " [   0   10   20   10    5    2    0  960    4   17]\n",
      " [  11    6    7   24   10   22    8    9  869    8]\n",
      " [   7    7    2   13   33    3    0   22    9  913]]\n",
      "\n",
      "accuracy :\n",
      " 0.9364\n",
      "\n",
      "report :\n",
      "               precision    recall  f1-score   support\n",
      "\n",
      "           0       0.95      0.98      0.96       980\n",
      "           1       0.96      0.98      0.97      1135\n",
      "           2       0.92      0.93      0.93      1032\n",
      "           3       0.90      0.93      0.92      1010\n",
      "           4       0.94      0.96      0.95       982\n",
      "           5       0.93      0.88      0.91       892\n",
      "           6       0.95      0.95      0.95       958\n",
      "           7       0.95      0.93      0.94      1028\n",
      "           8       0.92      0.89      0.91       974\n",
      "           9       0.94      0.90      0.92      1009\n",
      "\n",
      "   micro avg       0.94      0.94      0.94     10000\n",
      "   macro avg       0.94      0.94      0.94     10000\n",
      "weighted avg       0.94      0.94      0.94     10000\n",
      "\n"
     ]
    }
   ],
   "source": [
    "# Confusion Matrix for SVM\n",
    "\n",
    "print(\"Confusion matrix:\\n\\n\",confusion_matrix(test_y,result))\n",
    "print(\"\\naccuracy :\\n\",accuracy_score(test_y,result))\n",
    "print(\"\\nreport :\\n\",classification_report(test_y,result))"
   ]
  },
  {
   "cell_type": "code",
   "execution_count": 39,
   "metadata": {},
   "outputs": [
    {
     "data": {
      "text/plain": [
       "SVC(C=1, cache_size=200, class_weight=None, coef0=0.0,\n",
       "  decision_function_shape='ovr', degree=3, gamma=0.05, kernel='rbf',\n",
       "  max_iter=-1, probability=False, random_state=None, shrinking=True,\n",
       "  tol=0.001, verbose=False)"
      ]
     },
     "execution_count": 39,
     "metadata": {},
     "output_type": "execute_result"
    }
   ],
   "source": [
    "# Using rbf kernel\n",
    "clf_2_ = SVC(kernel='rbf', C=1, gamma = 0.05)\n",
    "clf_2_.fit(train_x[:,1:], train_y)\n"
   ]
  },
  {
   "cell_type": "code",
   "execution_count": 40,
   "metadata": {},
   "outputs": [
    {
     "name": "stdout",
     "output_type": "stream",
     "text": [
      "accuracy : 0.9821\n"
     ]
    }
   ],
   "source": [
    "print(\"accuracy :\",accuracy_score(val_y,clf_2_.predict(val_x[:,1:])))"
   ]
  },
  {
   "cell_type": "code",
   "execution_count": 41,
   "metadata": {},
   "outputs": [],
   "source": [
    "result_ = clf_2_.predict(test_x[:,1:])\n"
   ]
  },
  {
   "cell_type": "code",
   "execution_count": 42,
   "metadata": {},
   "outputs": [
    {
     "name": "stdout",
     "output_type": "stream",
     "text": [
      "Confusion matrix:\n",
      "\n",
      " [[ 972    0    1    0    0    2    2    1    2    0]\n",
      " [   0 1127    3    1    0    1    0    1    2    0]\n",
      " [   4    0 1015    1    1    0    0    6    5    0]\n",
      " [   0    0    1  996    0    3    0    6    4    0]\n",
      " [   0    0    3    0  964    0    4    0    2    9]\n",
      " [   2    0    1    9    1  870    3    1    4    1]\n",
      " [   5    2    0    0    2    3  945    0    1    0]\n",
      " [   0    4   11    1    1    0    0 1001    2    8]\n",
      " [   2    0    1    6    0    3    0    3  957    2]\n",
      " [   4    4    2    8    7    2    0    6    7  969]]\n",
      "\n",
      "accuracy :\n",
      " 0.9816\n",
      "\n",
      "report :\n",
      "               precision    recall  f1-score   support\n",
      "\n",
      "           0       0.98      0.99      0.99       980\n",
      "           1       0.99      0.99      0.99      1135\n",
      "           2       0.98      0.98      0.98      1032\n",
      "           3       0.97      0.99      0.98      1010\n",
      "           4       0.99      0.98      0.98       982\n",
      "           5       0.98      0.98      0.98       892\n",
      "           6       0.99      0.99      0.99       958\n",
      "           7       0.98      0.97      0.98      1028\n",
      "           8       0.97      0.98      0.98       974\n",
      "           9       0.98      0.96      0.97      1009\n",
      "\n",
      "   micro avg       0.98      0.98      0.98     10000\n",
      "   macro avg       0.98      0.98      0.98     10000\n",
      "weighted avg       0.98      0.98      0.98     10000\n",
      "\n"
     ]
    }
   ],
   "source": [
    "# Confusion Matrix for SVM\n",
    "\n",
    "print(\"Confusion matrix:\\n\\n\",confusion_matrix(test_y,result_))\n",
    "print(\"\\naccuracy :\\n\",accuracy_score(test_y,result_))\n",
    "print(\"\\nreport :\\n\",classification_report(test_y,result_))"
   ]
  },
  {
   "cell_type": "code",
   "execution_count": 43,
   "metadata": {},
   "outputs": [
    {
     "data": {
      "text/plain": [
       "RandomForestClassifier(bootstrap=True, class_weight=None, criterion='gini',\n",
       "            max_depth=None, max_features='auto', max_leaf_nodes=None,\n",
       "            min_impurity_decrease=0.0, min_impurity_split=None,\n",
       "            min_samples_leaf=1, min_samples_split=2,\n",
       "            min_weight_fraction_leaf=0.0, n_estimators=10, n_jobs=None,\n",
       "            oob_score=False, random_state=None, verbose=0,\n",
       "            warm_start=False)"
      ]
     },
     "execution_count": 43,
     "metadata": {},
     "output_type": "execute_result"
    }
   ],
   "source": [
    "# RandomForestClassifier\n",
    "\n",
    "from sklearn.ensemble import RandomForestClassifier\n",
    "clf_3 = RandomForestClassifier(n_estimators=10)  \n",
    "clf_3.fit(train_x[:,1:], train_y)"
   ]
  },
  {
   "cell_type": "code",
   "execution_count": 44,
   "metadata": {},
   "outputs": [
    {
     "name": "stdout",
     "output_type": "stream",
     "text": [
      "accuracy : 0.9506\n"
     ]
    }
   ],
   "source": [
    "print(\"accuracy :\",accuracy_score(val_y,clf_3.predict(val_x[:,1:])))"
   ]
  },
  {
   "cell_type": "code",
   "execution_count": 45,
   "metadata": {},
   "outputs": [],
   "source": [
    "result_rf = clf_3.predict(test_x[:,1:])"
   ]
  },
  {
   "cell_type": "code",
   "execution_count": 46,
   "metadata": {},
   "outputs": [
    {
     "name": "stdout",
     "output_type": "stream",
     "text": [
      "Confusion matrix:\n",
      "\n",
      " [[ 966    0    3    3    1    2    1    2    2    0]\n",
      " [   0 1124    3    2    1    2    1    0    1    1]\n",
      " [  13    2  973    6    6    1    6   13   10    2]\n",
      " [   3    4   18  950    0   15    0    9   10    1]\n",
      " [   3    3    5    1  936    4    3    2    4   21]\n",
      " [   6    1    5   38    1  816   11    2    9    3]\n",
      " [   8    3    4    1    4    9  921    1    7    0]\n",
      " [   3    8   23    7    8    1    0  968    1    9]\n",
      " [   9    2   13   21    5   19    8    7  878   12]\n",
      " [   9    5    5    9   24    3    3   15   10  926]]\n",
      "\n",
      "accuracy :\n",
      " 0.9458\n",
      "\n",
      "report :\n",
      "               precision    recall  f1-score   support\n",
      "\n",
      "           0       0.95      0.99      0.97       980\n",
      "           1       0.98      0.99      0.98      1135\n",
      "           2       0.92      0.94      0.93      1032\n",
      "           3       0.92      0.94      0.93      1010\n",
      "           4       0.95      0.95      0.95       982\n",
      "           5       0.94      0.91      0.93       892\n",
      "           6       0.97      0.96      0.96       958\n",
      "           7       0.95      0.94      0.95      1028\n",
      "           8       0.94      0.90      0.92       974\n",
      "           9       0.95      0.92      0.93      1009\n",
      "\n",
      "   micro avg       0.95      0.95      0.95     10000\n",
      "   macro avg       0.95      0.94      0.95     10000\n",
      "weighted avg       0.95      0.95      0.95     10000\n",
      "\n"
     ]
    }
   ],
   "source": [
    "# Confusion Matrix for RF\n",
    "\n",
    "print(\"Confusion matrix:\\n\\n\",confusion_matrix(test_y,result_rf))\n",
    "print(\"\\naccuracy :\\n\",accuracy_score(test_y,result_rf))\n",
    "print(\"\\nreport :\\n\",classification_report(test_y,result_rf))"
   ]
  },
  {
   "cell_type": "code",
   "execution_count": 47,
   "metadata": {},
   "outputs": [],
   "source": [
    "# for USPS\n",
    "\n",
    "result_rf_ = clf_3.predict(USPS_Test_Imgs[:,1:])\n"
   ]
  },
  {
   "cell_type": "code",
   "execution_count": 48,
   "metadata": {},
   "outputs": [
    {
     "data": {
      "text/plain": [
       "0.29733333333333334"
      ]
     },
     "execution_count": 48,
     "metadata": {},
     "output_type": "execute_result"
    }
   ],
   "source": [
    "accuracy_score(USPS_test_label,result_rf_)"
   ]
  },
  {
   "cell_type": "code",
   "execution_count": 49,
   "metadata": {},
   "outputs": [
    {
     "name": "stderr",
     "output_type": "stream",
     "text": [
      "C:\\Users\\abhi\\Anaconda3\\lib\\site-packages\\sklearn\\linear_model\\logistic.py:432: FutureWarning: Default solver will be changed to 'lbfgs' in 0.22. Specify a solver to silence this warning.\n",
      "  FutureWarning)\n"
     ]
    },
    {
     "data": {
      "text/plain": [
       "0.9199"
      ]
     },
     "execution_count": 49,
     "metadata": {},
     "output_type": "execute_result"
    }
   ],
   "source": [
    "# Here I have imported Logistic regression from sklearn to \n",
    "from sklearn.linear_model import LogisticRegression\n",
    "\n",
    "lr = LogisticRegression(multi_class='ovr')\n",
    "lr.fit(train_x[:,1:],train_y)\n",
    "lr.score(test_x[:,1:],test_y)"
   ]
  },
  {
   "cell_type": "code",
   "execution_count": 55,
   "metadata": {},
   "outputs": [],
   "source": [
    "from sklearn.ensemble import BaggingClassifier"
   ]
  },
  {
   "cell_type": "code",
   "execution_count": 56,
   "metadata": {},
   "outputs": [],
   "source": [
    "lr_ = lr = LogisticRegression(multi_class='ovr')\n",
    "clf_2__ = SVC(kernel='rbf', C=1, gamma = 0.05)\n",
    "clf_3__ = RandomForestClassifier(n_estimators=10)"
   ]
  },
  {
   "cell_type": "code",
   "execution_count": 57,
   "metadata": {},
   "outputs": [],
   "source": [
    "# Bagging\n",
    "\n",
    "bagging_1 = BaggingClassifier(base_estimator=lr_, n_estimators=10, max_samples=1)\n",
    "bagging_2 = BaggingClassifier(base_estimator=clf_2__, n_estimators=10, max_samples=1)\n",
    "bagging_3 =  BaggingClassifier(base_estimator= clf_3__, n_estimators=10, max_samples=1)"
   ]
  },
  {
   "cell_type": "code",
   "execution_count": 58,
   "metadata": {},
   "outputs": [
    {
     "name": "stderr",
     "output_type": "stream",
     "text": [
      "C:\\Users\\abhi\\Anaconda3\\lib\\site-packages\\sklearn\\linear_model\\logistic.py:432: FutureWarning: Default solver will be changed to 'lbfgs' in 0.22. Specify a solver to silence this warning.\n",
      "  FutureWarning)\n",
      "C:\\Users\\abhi\\Anaconda3\\lib\\site-packages\\sklearn\\linear_model\\logistic.py:432: FutureWarning: Default solver will be changed to 'lbfgs' in 0.22. Specify a solver to silence this warning.\n",
      "  FutureWarning)\n",
      "C:\\Users\\abhi\\Anaconda3\\lib\\site-packages\\sklearn\\linear_model\\logistic.py:432: FutureWarning: Default solver will be changed to 'lbfgs' in 0.22. Specify a solver to silence this warning.\n",
      "  FutureWarning)\n",
      "C:\\Users\\abhi\\Anaconda3\\lib\\site-packages\\sklearn\\linear_model\\logistic.py:432: FutureWarning: Default solver will be changed to 'lbfgs' in 0.22. Specify a solver to silence this warning.\n",
      "  FutureWarning)\n",
      "C:\\Users\\abhi\\Anaconda3\\lib\\site-packages\\sklearn\\linear_model\\logistic.py:432: FutureWarning: Default solver will be changed to 'lbfgs' in 0.22. Specify a solver to silence this warning.\n",
      "  FutureWarning)\n",
      "C:\\Users\\abhi\\Anaconda3\\lib\\site-packages\\sklearn\\linear_model\\logistic.py:432: FutureWarning: Default solver will be changed to 'lbfgs' in 0.22. Specify a solver to silence this warning.\n",
      "  FutureWarning)\n",
      "C:\\Users\\abhi\\Anaconda3\\lib\\site-packages\\sklearn\\linear_model\\logistic.py:432: FutureWarning: Default solver will be changed to 'lbfgs' in 0.22. Specify a solver to silence this warning.\n",
      "  FutureWarning)\n",
      "C:\\Users\\abhi\\Anaconda3\\lib\\site-packages\\sklearn\\linear_model\\logistic.py:432: FutureWarning: Default solver will be changed to 'lbfgs' in 0.22. Specify a solver to silence this warning.\n",
      "  FutureWarning)\n",
      "C:\\Users\\abhi\\Anaconda3\\lib\\site-packages\\sklearn\\linear_model\\logistic.py:432: FutureWarning: Default solver will be changed to 'lbfgs' in 0.22. Specify a solver to silence this warning.\n",
      "  FutureWarning)\n",
      "C:\\Users\\abhi\\Anaconda3\\lib\\site-packages\\sklearn\\linear_model\\logistic.py:432: FutureWarning: Default solver will be changed to 'lbfgs' in 0.22. Specify a solver to silence this warning.\n",
      "  FutureWarning)\n"
     ]
    },
    {
     "data": {
      "text/plain": [
       "BaggingClassifier(base_estimator=RandomForestClassifier(bootstrap=True, class_weight=None, criterion='gini',\n",
       "            max_depth=None, max_features='auto', max_leaf_nodes=None,\n",
       "            min_impurity_decrease=0.0, min_impurity_split=None,\n",
       "            min_samples_leaf=1, min_samples_split=2,\n",
       "            min_weight_fraction_leaf=0.0, n_estimators=10, n_jobs=None,\n",
       "            oob_score=False, random_state=None, verbose=0,\n",
       "            warm_start=False),\n",
       "         bootstrap=True, bootstrap_features=False, max_features=1.0,\n",
       "         max_samples=1, n_estimators=10, n_jobs=None, oob_score=False,\n",
       "         random_state=None, verbose=0, warm_start=False)"
      ]
     },
     "execution_count": 58,
     "metadata": {},
     "output_type": "execute_result"
    }
   ],
   "source": [
    "bagging_1.fit(train_x[:,1:],train_y)\n",
    "bagging_2.fit(train_x[:,1:],train_y)\n",
    "bagging_3.fit(train_x[:,1:],train_y)"
   ]
  },
  {
   "cell_type": "code",
   "execution_count": 59,
   "metadata": {},
   "outputs": [
    {
     "name": "stdout",
     "output_type": "stream",
     "text": [
      "0.2523\n"
     ]
    }
   ],
   "source": [
    "print(bagging_1.score(test_x[:,1:],test_y))"
   ]
  },
  {
   "cell_type": "code",
   "execution_count": 133,
   "metadata": {},
   "outputs": [
    {
     "name": "stdout",
     "output_type": "stream",
     "text": [
      "0.098\n",
      "0.0892\n"
     ]
    }
   ],
   "source": [
    "print(bagging_2.score(test_x[:,1:],test_y))\n",
    "print(bagging_3.score(test_x[:,1:],test_y))"
   ]
  },
  {
   "cell_type": "code",
   "execution_count": 134,
   "metadata": {},
   "outputs": [],
   "source": [
    "\n",
    "from sklearn.ensemble import AdaBoostClassifier,GradientBoostingClassifier"
   ]
  },
  {
   "cell_type": "code",
   "execution_count": 136,
   "metadata": {},
   "outputs": [],
   "source": [
    "# Boosting\n",
    "boosting_1 = AdaBoostClassifier(base_estimator=lr_, algorithm='SAMME')\n",
    "boosting_2 = AdaBoostClassifier(base_estimator=clf_2__, algorithm='SAMME')\n",
    "boosting_3 = AdaBoostClassifier(base_estimator=clf_3__, algorithm='SAMME')"
   ]
  },
  {
   "cell_type": "code",
   "execution_count": null,
   "metadata": {},
   "outputs": [],
   "source": [
    "boosting_1.fit(train_x[:,1:],train_y)\n",
    "boosting_2.fit(train_x[:,1:],train_y)\n",
    "boosting_3.fit(train_x[:,1:],train_y)"
   ]
  },
  {
   "cell_type": "code",
   "execution_count": null,
   "metadata": {},
   "outputs": [],
   "source": [
    "print(boosting_1.score(test_x[:,1:],test_y))\n",
    "print(boosting_2.score(test_x[:,1:],test_y))\n",
    "print(boosting_3.score(test_x[:,1:],test_y))\n"
   ]
  },
  {
   "cell_type": "code",
   "execution_count": null,
   "metadata": {},
   "outputs": [],
   "source": [
    "from sklearn.ensemble import VotingClassifier\n",
    "\n",
    "net_clf = VotingClassifier( estimators = [('lr',lr_), ('svm',clf_2__),('rf',clf_3__)], voting = 'hard')\n",
    "net_clf.fit(train_x[:,1:],train_y)"
   ]
  },
  {
   "cell_type": "code",
   "execution_count": null,
   "metadata": {},
   "outputs": [],
   "source": [
    "net_clf_ = VotingClassifier( estimators = [('lr',lr_), ('svm',clf_2__),('rf',clf_3__)], voting = 'soft')\n",
    "net_clf_.fit(train_x[:,1:],train_y)"
   ]
  },
  {
   "cell_type": "code",
   "execution_count": null,
   "metadata": {},
   "outputs": [],
   "source": [
    "print(net_clf.score(test_x[:,1:],test_y))\n",
    "print(net_clf_.score(test_x[:,1:],test_y))"
   ]
  }
 ],
 "metadata": {
  "kernelspec": {
   "display_name": "Python 3",
   "language": "python",
   "name": "python3"
  },
  "language_info": {
   "codemirror_mode": {
    "name": "ipython",
    "version": 3
   },
   "file_extension": ".py",
   "mimetype": "text/x-python",
   "name": "python",
   "nbconvert_exporter": "python",
   "pygments_lexer": "ipython3",
   "version": "3.5.6"
  }
 },
 "nbformat": 4,
 "nbformat_minor": 2
}
